{
 "cells": [
  {
   "cell_type": "markdown",
   "id": "ccda84ca-49cd-40ab-823c-86b74f02e5f3",
   "metadata": {},
   "source": [
    "Q1."
   ]
  },
  {
   "cell_type": "code",
   "execution_count": 1,
   "id": "61de9a17-a793-4714-8802-b71de59cf29a",
   "metadata": {},
   "outputs": [],
   "source": [
    "import pandas as pd"
   ]
  },
  {
   "cell_type": "code",
   "execution_count": 2,
   "id": "754d0b72-fbb1-43bd-8469-46f434121819",
   "metadata": {},
   "outputs": [],
   "source": [
    "course_name = ['Data Science', 'Machine Learning', 'Big Data', 'Data Engineer']\n",
    "duration = [2,3,6,4]"
   ]
  },
  {
   "cell_type": "code",
   "execution_count": 3,
   "id": "4af01aac-2bdd-42fe-a075-0dffb6fcb63d",
   "metadata": {},
   "outputs": [],
   "source": [
    "df = pd.DataFrame(data = {'course_name' : course_name, 'duration' : duration})"
   ]
  },
  {
   "cell_type": "code",
   "execution_count": 4,
   "id": "3f091130-5fc1-4d8d-b470-8fd454ea6ea2",
   "metadata": {},
   "outputs": [
    {
     "data": {
      "text/html": [
       "<div>\n",
       "<style scoped>\n",
       "    .dataframe tbody tr th:only-of-type {\n",
       "        vertical-align: middle;\n",
       "    }\n",
       "\n",
       "    .dataframe tbody tr th {\n",
       "        vertical-align: top;\n",
       "    }\n",
       "\n",
       "    .dataframe thead th {\n",
       "        text-align: right;\n",
       "    }\n",
       "</style>\n",
       "<table border=\"1\" class=\"dataframe\">\n",
       "  <thead>\n",
       "    <tr style=\"text-align: right;\">\n",
       "      <th></th>\n",
       "      <th>course_name</th>\n",
       "      <th>duration</th>\n",
       "    </tr>\n",
       "  </thead>\n",
       "  <tbody>\n",
       "    <tr>\n",
       "      <th>0</th>\n",
       "      <td>Data Science</td>\n",
       "      <td>2</td>\n",
       "    </tr>\n",
       "    <tr>\n",
       "      <th>1</th>\n",
       "      <td>Machine Learning</td>\n",
       "      <td>3</td>\n",
       "    </tr>\n",
       "    <tr>\n",
       "      <th>2</th>\n",
       "      <td>Big Data</td>\n",
       "      <td>6</td>\n",
       "    </tr>\n",
       "    <tr>\n",
       "      <th>3</th>\n",
       "      <td>Data Engineer</td>\n",
       "      <td>4</td>\n",
       "    </tr>\n",
       "  </tbody>\n",
       "</table>\n",
       "</div>"
      ],
      "text/plain": [
       "        course_name  duration\n",
       "0      Data Science         2\n",
       "1  Machine Learning         3\n",
       "2          Big Data         6\n",
       "3     Data Engineer         4"
      ]
     },
     "execution_count": 4,
     "metadata": {},
     "output_type": "execute_result"
    }
   ],
   "source": [
    "df"
   ]
  },
  {
   "cell_type": "code",
   "execution_count": 5,
   "id": "f222dd9d-10c5-4d1c-bc20-fb439271b39b",
   "metadata": {},
   "outputs": [
    {
     "name": "stdout",
     "output_type": "stream",
     "text": [
      "course_name    Machine Learning\n",
      "duration                      3\n",
      "Name: 1, dtype: object\n"
     ]
    }
   ],
   "source": [
    "# Print the data present in the second row\n",
    "second_row_data = df.iloc[1]\n",
    "print(second_row_data)"
   ]
  },
  {
   "cell_type": "code",
   "execution_count": null,
   "id": "654b4ea3-a96f-4888-99ed-cca9f185e4b8",
   "metadata": {},
   "outputs": [],
   "source": []
  },
  {
   "cell_type": "markdown",
   "id": "69f3f6e1-e1b2-4d15-b6b4-f18f6960f4a8",
   "metadata": {},
   "source": [
    "Q2. What is the difference between the functions loc and iloc in pandas.DataFrame?"
   ]
  },
  {
   "cell_type": "markdown",
   "id": "75e58172-314b-445a-b991-d8cd29f20c43",
   "metadata": {},
   "source": [
    "ans-In pandas, both loc and iloc are used to access data within a DataFrame, but they have different methods of indexing and selecting data.\n",
    "\n",
    "loc:\n",
    "The loc indexer is label-based and is used for selecting rows and columns based on their labels (i.e., index labels and column names). You can use it to access data using explicit row and column labels.\n",
    "Syntax: df.loc[row_label, column_label]"
   ]
  },
  {
   "cell_type": "code",
   "execution_count": 6,
   "id": "420a25b7-accb-49ea-9d40-2a795e118209",
   "metadata": {},
   "outputs": [],
   "source": [
    "# Access data in the second row and 'course_name' column using labels\n",
    "data = df.loc[1, 'course_name']"
   ]
  },
  {
   "cell_type": "markdown",
   "id": "0eea3d8f-5224-480e-b1bb-4000b52284ba",
   "metadata": {},
   "source": [
    "iloc:\n",
    "The iloc indexer is integer-based and is used for selecting rows and columns based on their integer positions. It's similar to traditional Python indexing.\n",
    "Syntax: df.iloc[row_index, column_index]"
   ]
  },
  {
   "cell_type": "code",
   "execution_count": 7,
   "id": "26155a49-5e1a-4522-b974-4375853fa486",
   "metadata": {},
   "outputs": [],
   "source": [
    "# Access data in the second row and first column using integer positions\n",
    "data = df.iloc[1, 0]"
   ]
  },
  {
   "cell_type": "markdown",
   "id": "f42b9914-cef3-480c-8a02-fc115787742f",
   "metadata": {},
   "source": [
    "In your provided code, the line df.iloc[1] is using the iloc indexer to access the data in the second row of the DataFrame, which returns a pandas Series containing the data in that row."
   ]
  },
  {
   "cell_type": "markdown",
   "id": "8b515f4c-e6e6-41b0-9971-48e3cb681580",
   "metadata": {},
   "source": [
    "Q3."
   ]
  },
  {
   "cell_type": "code",
   "execution_count": 8,
   "id": "5dc66702-dd0c-47df-b22d-4b9ee8760049",
   "metadata": {},
   "outputs": [],
   "source": [
    "# Original DataFrame\n",
    "course_name = ['Data Science', 'Machine Learning', 'Big Data', 'Data Engineer']\n",
    "duration = [2, 3, 6, 4]\n",
    "df = pd.DataFrame(data={'course_name': course_name, 'duration': duration})"
   ]
  },
  {
   "cell_type": "code",
   "execution_count": 9,
   "id": "9394b033-bea9-4736-83e2-e67d69f11d94",
   "metadata": {},
   "outputs": [
    {
     "data": {
      "text/html": [
       "<div>\n",
       "<style scoped>\n",
       "    .dataframe tbody tr th:only-of-type {\n",
       "        vertical-align: middle;\n",
       "    }\n",
       "\n",
       "    .dataframe tbody tr th {\n",
       "        vertical-align: top;\n",
       "    }\n",
       "\n",
       "    .dataframe thead th {\n",
       "        text-align: right;\n",
       "    }\n",
       "</style>\n",
       "<table border=\"1\" class=\"dataframe\">\n",
       "  <thead>\n",
       "    <tr style=\"text-align: right;\">\n",
       "      <th></th>\n",
       "      <th>course_name</th>\n",
       "      <th>duration</th>\n",
       "    </tr>\n",
       "  </thead>\n",
       "  <tbody>\n",
       "    <tr>\n",
       "      <th>0</th>\n",
       "      <td>Data Science</td>\n",
       "      <td>2</td>\n",
       "    </tr>\n",
       "    <tr>\n",
       "      <th>1</th>\n",
       "      <td>Machine Learning</td>\n",
       "      <td>3</td>\n",
       "    </tr>\n",
       "    <tr>\n",
       "      <th>2</th>\n",
       "      <td>Big Data</td>\n",
       "      <td>6</td>\n",
       "    </tr>\n",
       "    <tr>\n",
       "      <th>3</th>\n",
       "      <td>Data Engineer</td>\n",
       "      <td>4</td>\n",
       "    </tr>\n",
       "  </tbody>\n",
       "</table>\n",
       "</div>"
      ],
      "text/plain": [
       "        course_name  duration\n",
       "0      Data Science         2\n",
       "1  Machine Learning         3\n",
       "2          Big Data         6\n",
       "3     Data Engineer         4"
      ]
     },
     "execution_count": 9,
     "metadata": {},
     "output_type": "execute_result"
    }
   ],
   "source": [
    "df"
   ]
  },
  {
   "cell_type": "code",
   "execution_count": 10,
   "id": "9c0a54d9-f9df-46f8-a927-d1bb28af3a97",
   "metadata": {},
   "outputs": [],
   "source": [
    "# Reindexing the DataFrame\n",
    "reindex = [3, 0, 1, 2]\n",
    "new_df = df.reindex(reindex)\n"
   ]
  },
  {
   "cell_type": "code",
   "execution_count": 11,
   "id": "3c47727b-309d-42a4-9bed-95f86ae668f4",
   "metadata": {},
   "outputs": [
    {
     "data": {
      "text/html": [
       "<div>\n",
       "<style scoped>\n",
       "    .dataframe tbody tr th:only-of-type {\n",
       "        vertical-align: middle;\n",
       "    }\n",
       "\n",
       "    .dataframe tbody tr th {\n",
       "        vertical-align: top;\n",
       "    }\n",
       "\n",
       "    .dataframe thead th {\n",
       "        text-align: right;\n",
       "    }\n",
       "</style>\n",
       "<table border=\"1\" class=\"dataframe\">\n",
       "  <thead>\n",
       "    <tr style=\"text-align: right;\">\n",
       "      <th></th>\n",
       "      <th>course_name</th>\n",
       "      <th>duration</th>\n",
       "    </tr>\n",
       "  </thead>\n",
       "  <tbody>\n",
       "    <tr>\n",
       "      <th>3</th>\n",
       "      <td>Data Engineer</td>\n",
       "      <td>4</td>\n",
       "    </tr>\n",
       "    <tr>\n",
       "      <th>0</th>\n",
       "      <td>Data Science</td>\n",
       "      <td>2</td>\n",
       "    </tr>\n",
       "    <tr>\n",
       "      <th>1</th>\n",
       "      <td>Machine Learning</td>\n",
       "      <td>3</td>\n",
       "    </tr>\n",
       "    <tr>\n",
       "      <th>2</th>\n",
       "      <td>Big Data</td>\n",
       "      <td>6</td>\n",
       "    </tr>\n",
       "  </tbody>\n",
       "</table>\n",
       "</div>"
      ],
      "text/plain": [
       "        course_name  duration\n",
       "3     Data Engineer         4\n",
       "0      Data Science         2\n",
       "1  Machine Learning         3\n",
       "2          Big Data         6"
      ]
     },
     "execution_count": 11,
     "metadata": {},
     "output_type": "execute_result"
    }
   ],
   "source": [
    "new_df"
   ]
  },
  {
   "cell_type": "code",
   "execution_count": 12,
   "id": "1d2cd9a0-15d8-4457-a5af-5fba47f17729",
   "metadata": {},
   "outputs": [
    {
     "name": "stdout",
     "output_type": "stream",
     "text": [
      "Using loc:\n",
      "course_name    Big Data\n",
      "duration              6\n",
      "Name: 2, dtype: object\n"
     ]
    }
   ],
   "source": [
    "# Accessing data using loc\n",
    "loc_output = new_df.loc[2]\n",
    "print(\"Using loc:\")\n",
    "print(loc_output)"
   ]
  },
  {
   "cell_type": "code",
   "execution_count": 13,
   "id": "6f9a7bb3-5814-46d5-94ba-b5785f3f557a",
   "metadata": {},
   "outputs": [
    {
     "name": "stdout",
     "output_type": "stream",
     "text": [
      "\n",
      "Using iloc:\n",
      "course_name    Machine Learning\n",
      "duration                      3\n",
      "Name: 1, dtype: object\n"
     ]
    }
   ],
   "source": [
    "# Accessing data using iloc\n",
    "iloc_output = new_df.iloc[2]\n",
    "print(\"\\nUsing iloc:\")\n",
    "print(iloc_output)"
   ]
  },
  {
   "cell_type": "markdown",
   "id": "e2f9eda8-60b2-479b-9611-8abd35147182",
   "metadata": {},
   "source": [
    "Observations and Explanation:\n",
    "\n",
    "new_df.loc[2]:\n",
    "\n",
    "The loc indexer is label-based, so when you use new_df.loc[2], it is trying to access the row with the label/index 2. However, after reindexing, the labels have changed, and the row with the label 2 now corresponds to the third row in the original DataFrame. Therefore, new_df.loc[2] retrieves the data from the third row of the reindexed DataFrame.\n",
    "\n",
    "new_df.iloc[2]:\n",
    "\n",
    "The iloc indexer is integer-based, so when you use new_df.iloc[2], it is trying to access the row with the integer position 2. After reindexing, the row that was originally in the third position (Big Data, 6) now occupies the second position in the reindexed DataFrame. Therefore, new_df.iloc[2] retrieves the data from the second row of the reindexed DataFrame.\n",
    "\n",
    "In both cases, there is a difference between the outputs due to the change in index labels and positions after reindexing. The loc indexer accesses rows based on their labels, while the iloc indexer accesses rows based on their integer positions."
   ]
  },
  {
   "cell_type": "markdown",
   "id": "f1da691d-8490-4159-927b-31c004ec865d",
   "metadata": {},
   "source": [
    "Q4."
   ]
  },
  {
   "cell_type": "code",
   "execution_count": 14,
   "id": "02197bf9-6a44-4575-a8c5-dc396682a7c7",
   "metadata": {},
   "outputs": [],
   "source": [
    "import numpy as np\n",
    "columns = ['column_1', 'column_2', 'column_3', 'column_4', 'column_5', 'column_6']\n",
    "indices = [1,2,3,4,5,6]"
   ]
  },
  {
   "cell_type": "code",
   "execution_count": 15,
   "id": "717159be-606b-4c53-b4e3-6451ebdad376",
   "metadata": {},
   "outputs": [],
   "source": [
    "#Creating a dataframe:\n",
    "df1 = pd.DataFrame(np.random.rand(6,6), columns = columns, index = indices)"
   ]
  },
  {
   "cell_type": "code",
   "execution_count": 16,
   "id": "912454ec-aa5b-4e62-9a4f-8bdb7fab3f58",
   "metadata": {},
   "outputs": [
    {
     "data": {
      "text/html": [
       "<div>\n",
       "<style scoped>\n",
       "    .dataframe tbody tr th:only-of-type {\n",
       "        vertical-align: middle;\n",
       "    }\n",
       "\n",
       "    .dataframe tbody tr th {\n",
       "        vertical-align: top;\n",
       "    }\n",
       "\n",
       "    .dataframe thead th {\n",
       "        text-align: right;\n",
       "    }\n",
       "</style>\n",
       "<table border=\"1\" class=\"dataframe\">\n",
       "  <thead>\n",
       "    <tr style=\"text-align: right;\">\n",
       "      <th></th>\n",
       "      <th>column_1</th>\n",
       "      <th>column_2</th>\n",
       "      <th>column_3</th>\n",
       "      <th>column_4</th>\n",
       "      <th>column_5</th>\n",
       "      <th>column_6</th>\n",
       "    </tr>\n",
       "  </thead>\n",
       "  <tbody>\n",
       "    <tr>\n",
       "      <th>1</th>\n",
       "      <td>0.764272</td>\n",
       "      <td>0.064174</td>\n",
       "      <td>0.282547</td>\n",
       "      <td>0.857104</td>\n",
       "      <td>0.750591</td>\n",
       "      <td>0.665608</td>\n",
       "    </tr>\n",
       "    <tr>\n",
       "      <th>2</th>\n",
       "      <td>0.753175</td>\n",
       "      <td>0.296324</td>\n",
       "      <td>0.325017</td>\n",
       "      <td>0.361027</td>\n",
       "      <td>0.768996</td>\n",
       "      <td>0.595597</td>\n",
       "    </tr>\n",
       "    <tr>\n",
       "      <th>3</th>\n",
       "      <td>0.705694</td>\n",
       "      <td>0.906267</td>\n",
       "      <td>0.295609</td>\n",
       "      <td>0.126661</td>\n",
       "      <td>0.630655</td>\n",
       "      <td>0.765493</td>\n",
       "    </tr>\n",
       "    <tr>\n",
       "      <th>4</th>\n",
       "      <td>0.783697</td>\n",
       "      <td>0.898128</td>\n",
       "      <td>0.461596</td>\n",
       "      <td>0.894207</td>\n",
       "      <td>0.049479</td>\n",
       "      <td>0.134003</td>\n",
       "    </tr>\n",
       "    <tr>\n",
       "      <th>5</th>\n",
       "      <td>0.837819</td>\n",
       "      <td>0.416261</td>\n",
       "      <td>0.598974</td>\n",
       "      <td>0.549227</td>\n",
       "      <td>0.126366</td>\n",
       "      <td>0.254611</td>\n",
       "    </tr>\n",
       "    <tr>\n",
       "      <th>6</th>\n",
       "      <td>0.052493</td>\n",
       "      <td>0.945610</td>\n",
       "      <td>0.016601</td>\n",
       "      <td>0.737909</td>\n",
       "      <td>0.512735</td>\n",
       "      <td>0.506036</td>\n",
       "    </tr>\n",
       "  </tbody>\n",
       "</table>\n",
       "</div>"
      ],
      "text/plain": [
       "   column_1  column_2  column_3  column_4  column_5  column_6\n",
       "1  0.764272  0.064174  0.282547  0.857104  0.750591  0.665608\n",
       "2  0.753175  0.296324  0.325017  0.361027  0.768996  0.595597\n",
       "3  0.705694  0.906267  0.295609  0.126661  0.630655  0.765493\n",
       "4  0.783697  0.898128  0.461596  0.894207  0.049479  0.134003\n",
       "5  0.837819  0.416261  0.598974  0.549227  0.126366  0.254611\n",
       "6  0.052493  0.945610  0.016601  0.737909  0.512735  0.506036"
      ]
     },
     "execution_count": 16,
     "metadata": {},
     "output_type": "execute_result"
    }
   ],
   "source": [
    "df1"
   ]
  },
  {
   "cell_type": "code",
   "execution_count": 17,
   "id": "59e7c867-1baf-429c-9e27-26ef2d50b8a9",
   "metadata": {},
   "outputs": [
    {
     "data": {
      "text/plain": [
       "column_1    0.649525\n",
       "column_2    0.587794\n",
       "column_3    0.330057\n",
       "column_4    0.587689\n",
       "column_5    0.473137\n",
       "column_6    0.486891\n",
       "dtype: float64"
      ]
     },
     "execution_count": 17,
     "metadata": {},
     "output_type": "execute_result"
    }
   ],
   "source": [
    "df1.mean()"
   ]
  },
  {
   "cell_type": "code",
   "execution_count": 18,
   "id": "b78add46-ae27-4e91-a928-1a5841de0f4a",
   "metadata": {},
   "outputs": [
    {
     "data": {
      "text/plain": [
       "Index(['column_1', 'column_2', 'column_3', 'column_4', 'column_5', 'column_6'], dtype='object')"
      ]
     },
     "execution_count": 18,
     "metadata": {},
     "output_type": "execute_result"
    }
   ],
   "source": [
    "df1.columns"
   ]
  },
  {
   "cell_type": "code",
   "execution_count": 19,
   "id": "c624eb15-0193-4d83-a6bd-04a885b1bb34",
   "metadata": {},
   "outputs": [
    {
     "data": {
      "text/plain": [
       "0.37797399324347053"
      ]
     },
     "execution_count": 19,
     "metadata": {},
     "output_type": "execute_result"
    }
   ],
   "source": [
    "df1.column_2.std()"
   ]
  },
  {
   "cell_type": "markdown",
   "id": "1d747523-f7ed-4711-899b-07ec32a269a2",
   "metadata": {},
   "source": [
    "Q5."
   ]
  },
  {
   "cell_type": "code",
   "execution_count": 25,
   "id": "ecf1615f-b719-43bb-815e-64c40662250f",
   "metadata": {},
   "outputs": [],
   "source": [
    "df1.loc[2, 'column_2'] = 'string_data'"
   ]
  },
  {
   "cell_type": "code",
   "execution_count": 26,
   "id": "d49cf718-a8af-4e28-89c8-c555301fdf5d",
   "metadata": {},
   "outputs": [
    {
     "data": {
      "text/html": [
       "<div>\n",
       "<style scoped>\n",
       "    .dataframe tbody tr th:only-of-type {\n",
       "        vertical-align: middle;\n",
       "    }\n",
       "\n",
       "    .dataframe tbody tr th {\n",
       "        vertical-align: top;\n",
       "    }\n",
       "\n",
       "    .dataframe thead th {\n",
       "        text-align: right;\n",
       "    }\n",
       "</style>\n",
       "<table border=\"1\" class=\"dataframe\">\n",
       "  <thead>\n",
       "    <tr style=\"text-align: right;\">\n",
       "      <th></th>\n",
       "      <th>column_1</th>\n",
       "      <th>column_2</th>\n",
       "      <th>column_3</th>\n",
       "      <th>column_4</th>\n",
       "      <th>column_5</th>\n",
       "      <th>column_6</th>\n",
       "    </tr>\n",
       "  </thead>\n",
       "  <tbody>\n",
       "    <tr>\n",
       "      <th>1</th>\n",
       "      <td>0.764272</td>\n",
       "      <td>0.064174</td>\n",
       "      <td>0.282547</td>\n",
       "      <td>0.857104</td>\n",
       "      <td>0.750591</td>\n",
       "      <td>0.665608</td>\n",
       "    </tr>\n",
       "    <tr>\n",
       "      <th>2</th>\n",
       "      <td>0.753175</td>\n",
       "      <td>string_data</td>\n",
       "      <td>0.325017</td>\n",
       "      <td>0.361027</td>\n",
       "      <td>0.768996</td>\n",
       "      <td>0.595597</td>\n",
       "    </tr>\n",
       "    <tr>\n",
       "      <th>3</th>\n",
       "      <td>0.705694</td>\n",
       "      <td>0.906267</td>\n",
       "      <td>0.295609</td>\n",
       "      <td>0.126661</td>\n",
       "      <td>0.630655</td>\n",
       "      <td>0.765493</td>\n",
       "    </tr>\n",
       "    <tr>\n",
       "      <th>4</th>\n",
       "      <td>0.783697</td>\n",
       "      <td>0.898128</td>\n",
       "      <td>0.461596</td>\n",
       "      <td>0.894207</td>\n",
       "      <td>0.049479</td>\n",
       "      <td>0.134003</td>\n",
       "    </tr>\n",
       "    <tr>\n",
       "      <th>5</th>\n",
       "      <td>0.837819</td>\n",
       "      <td>0.416261</td>\n",
       "      <td>0.598974</td>\n",
       "      <td>0.549227</td>\n",
       "      <td>0.126366</td>\n",
       "      <td>0.254611</td>\n",
       "    </tr>\n",
       "    <tr>\n",
       "      <th>6</th>\n",
       "      <td>0.052493</td>\n",
       "      <td>0.94561</td>\n",
       "      <td>0.016601</td>\n",
       "      <td>0.737909</td>\n",
       "      <td>0.512735</td>\n",
       "      <td>0.506036</td>\n",
       "    </tr>\n",
       "  </tbody>\n",
       "</table>\n",
       "</div>"
      ],
      "text/plain": [
       "   column_1     column_2  column_3  column_4  column_5  column_6\n",
       "1  0.764272     0.064174  0.282547  0.857104  0.750591  0.665608\n",
       "2  0.753175  string_data  0.325017  0.361027  0.768996  0.595597\n",
       "3  0.705694     0.906267  0.295609  0.126661  0.630655  0.765493\n",
       "4  0.783697     0.898128  0.461596  0.894207  0.049479  0.134003\n",
       "5  0.837819     0.416261  0.598974  0.549227  0.126366  0.254611\n",
       "6  0.052493      0.94561  0.016601  0.737909  0.512735  0.506036"
      ]
     },
     "execution_count": 26,
     "metadata": {},
     "output_type": "execute_result"
    }
   ],
   "source": [
    "df1"
   ]
  },
  {
   "cell_type": "code",
   "execution_count": 27,
   "id": "b488f404-a2ae-48c7-9f44-d68f64d55f2c",
   "metadata": {},
   "outputs": [
    {
     "name": "stderr",
     "output_type": "stream",
     "text": [
      "/tmp/ipykernel_3097/2053335143.py:1: FutureWarning: The default value of numeric_only in DataFrame.mean is deprecated. In a future version, it will default to False. In addition, specifying 'numeric_only=None' is deprecated. Select only valid columns or specify the value of numeric_only to silence this warning.\n",
      "  df1.mean()\n"
     ]
    },
    {
     "data": {
      "text/plain": [
       "column_1    0.649525\n",
       "column_3    0.330057\n",
       "column_4    0.587689\n",
       "column_5    0.473137\n",
       "column_6    0.486891\n",
       "dtype: float64"
      ]
     },
     "execution_count": 27,
     "metadata": {},
     "output_type": "execute_result"
    }
   ],
   "source": [
    "df1.mean()"
   ]
  },
  {
   "cell_type": "markdown",
   "id": "613b4f41-8f70-402b-91e8-2fea4650f05a",
   "metadata": {},
   "source": [
    "Explanation:\n",
    "\n",
    "In the code above, the second row of 'column_2' is replaced with the string value 'string_data' using \n",
    "df1.loc[2, 'column_2'] = 'string_data'.\n",
    "\n",
    "When we try to calculate the mean of 'column_2' using column_2_mean = df1['column_2'].mean(), it throws an error because the string 'string_data' cannot be converted to a numeric value for calculating the mean.\n",
    "\n",
    "The error message indicates that it \"could not convert string to float,\" which is what happens when a non-numeric value is encountered in a calculation that requires numeric data.\n",
    "\n",
    "In summary, attempting to calculate the mean of a column containing non-numeric values, like strings, will result in a conversion error."
   ]
  },
  {
   "cell_type": "markdown",
   "id": "db5a1462-2d53-4f3d-ba78-9deaa2fa9140",
   "metadata": {},
   "source": [
    "Q6"
   ]
  },
  {
   "cell_type": "markdown",
   "id": "5cc210f1-0a19-49e3-a3ac-dc3435306759",
   "metadata": {},
   "source": [
    "In pandas, window functions (also known as rolling or moving functions) are used to perform calculations on a \"window\" of data points within a specified range. These functions are particularly useful for analyzing time-series data or other sequential data where you want to calculate metrics over a moving window of observations.\n",
    "\n",
    "Window functions allow you to compute metrics like rolling averages, rolling sums, moving standard deviations, and more. They help you understand trends, patterns, and variations in your data over time or any sequential order.\n",
    "\n",
    "There are several types of window functions available in pandas:\n",
    "\n",
    "Rolling Functions: These functions operate on a rolling window of fixed size and calculate various metrics within that window. Common rolling functions include:\n",
    "rolling().mean(): Calculate the rolling mean.\n",
    "rolling().sum(): Calculate the rolling sum.\n",
    "rolling().std(): Calculate the rolling standard deviation.\n",
    "rolling().min(): Calculate the rolling minimum.\n",
    "rolling().max(): Calculate the rolling maximum.\n"
   ]
  },
  {
   "cell_type": "code",
   "execution_count": 1,
   "id": "5c418528-7fe1-40c8-8dc1-0e87fe7ac8ad",
   "metadata": {},
   "outputs": [],
   "source": [
    "import pandas as pd\n",
    "\n",
    "# Creating a DataFrame with time-series data\n",
    "data = {'value': [10, 15, 20, 25, 30]}\n",
    "df = pd.DataFrame(data)"
   ]
  },
  {
   "cell_type": "code",
   "execution_count": 2,
   "id": "63df6661-4b18-414d-a6be-0000d47fee48",
   "metadata": {},
   "outputs": [
    {
     "data": {
      "text/html": [
       "<div>\n",
       "<style scoped>\n",
       "    .dataframe tbody tr th:only-of-type {\n",
       "        vertical-align: middle;\n",
       "    }\n",
       "\n",
       "    .dataframe tbody tr th {\n",
       "        vertical-align: top;\n",
       "    }\n",
       "\n",
       "    .dataframe thead th {\n",
       "        text-align: right;\n",
       "    }\n",
       "</style>\n",
       "<table border=\"1\" class=\"dataframe\">\n",
       "  <thead>\n",
       "    <tr style=\"text-align: right;\">\n",
       "      <th></th>\n",
       "      <th>value</th>\n",
       "    </tr>\n",
       "  </thead>\n",
       "  <tbody>\n",
       "    <tr>\n",
       "      <th>0</th>\n",
       "      <td>10</td>\n",
       "    </tr>\n",
       "    <tr>\n",
       "      <th>1</th>\n",
       "      <td>15</td>\n",
       "    </tr>\n",
       "    <tr>\n",
       "      <th>2</th>\n",
       "      <td>20</td>\n",
       "    </tr>\n",
       "    <tr>\n",
       "      <th>3</th>\n",
       "      <td>25</td>\n",
       "    </tr>\n",
       "    <tr>\n",
       "      <th>4</th>\n",
       "      <td>30</td>\n",
       "    </tr>\n",
       "  </tbody>\n",
       "</table>\n",
       "</div>"
      ],
      "text/plain": [
       "   value\n",
       "0     10\n",
       "1     15\n",
       "2     20\n",
       "3     25\n",
       "4     30"
      ]
     },
     "execution_count": 2,
     "metadata": {},
     "output_type": "execute_result"
    }
   ],
   "source": [
    "df"
   ]
  },
  {
   "cell_type": "code",
   "execution_count": 3,
   "id": "5bf942a1-9287-4562-906b-813f4941a123",
   "metadata": {},
   "outputs": [
    {
     "name": "stdout",
     "output_type": "stream",
     "text": [
      "0     NaN\n",
      "1    12.5\n",
      "2    17.5\n",
      "3    22.5\n",
      "4    27.5\n",
      "Name: value, dtype: float64\n"
     ]
    }
   ],
   "source": [
    "# Calculate the rolling mean with a window size of 2\n",
    "rolling_mean = df['value'].rolling(window=2).mean()\n",
    "print(rolling_mean)"
   ]
  },
  {
   "cell_type": "markdown",
   "id": "d3900a44-198d-45a3-8ab2-70db4339ad12",
   "metadata": {},
   "source": [
    "Expanding Functions: These functions calculate cumulative metrics over a growing window from the beginning of the data. They provide a broader perspective on how the cumulative metric evolves as new data points are added.\n",
    "expanding().mean(): Calculate the expanding mean.\n",
    "expanding().sum(): Calculate the expanding sum.\n",
    "expanding().std(): Calculate the expanding standard deviation.\n",
    "expanding().min(): Calculate the expanding minimum.\n",
    "expanding().max(): Calculate the expanding maximum."
   ]
  },
  {
   "cell_type": "code",
   "execution_count": 4,
   "id": "ce849ad6-f7bd-4ee5-8b06-473d2f8104da",
   "metadata": {},
   "outputs": [],
   "source": [
    "# Creating a DataFrame with time-series data\n",
    "data = {'value': [10, 15, 20, 25, 30]}\n",
    "df = pd.DataFrame(data)\n"
   ]
  },
  {
   "cell_type": "code",
   "execution_count": 5,
   "id": "96715dac-9061-498d-a825-515a0fda7222",
   "metadata": {},
   "outputs": [
    {
     "data": {
      "text/html": [
       "<div>\n",
       "<style scoped>\n",
       "    .dataframe tbody tr th:only-of-type {\n",
       "        vertical-align: middle;\n",
       "    }\n",
       "\n",
       "    .dataframe tbody tr th {\n",
       "        vertical-align: top;\n",
       "    }\n",
       "\n",
       "    .dataframe thead th {\n",
       "        text-align: right;\n",
       "    }\n",
       "</style>\n",
       "<table border=\"1\" class=\"dataframe\">\n",
       "  <thead>\n",
       "    <tr style=\"text-align: right;\">\n",
       "      <th></th>\n",
       "      <th>value</th>\n",
       "    </tr>\n",
       "  </thead>\n",
       "  <tbody>\n",
       "    <tr>\n",
       "      <th>0</th>\n",
       "      <td>10</td>\n",
       "    </tr>\n",
       "    <tr>\n",
       "      <th>1</th>\n",
       "      <td>15</td>\n",
       "    </tr>\n",
       "    <tr>\n",
       "      <th>2</th>\n",
       "      <td>20</td>\n",
       "    </tr>\n",
       "    <tr>\n",
       "      <th>3</th>\n",
       "      <td>25</td>\n",
       "    </tr>\n",
       "    <tr>\n",
       "      <th>4</th>\n",
       "      <td>30</td>\n",
       "    </tr>\n",
       "  </tbody>\n",
       "</table>\n",
       "</div>"
      ],
      "text/plain": [
       "   value\n",
       "0     10\n",
       "1     15\n",
       "2     20\n",
       "3     25\n",
       "4     30"
      ]
     },
     "execution_count": 5,
     "metadata": {},
     "output_type": "execute_result"
    }
   ],
   "source": [
    "df"
   ]
  },
  {
   "cell_type": "code",
   "execution_count": 6,
   "id": "3cac3060-1c85-403d-9d4f-12da9e470402",
   "metadata": {},
   "outputs": [
    {
     "name": "stdout",
     "output_type": "stream",
     "text": [
      "0     10.0\n",
      "1     25.0\n",
      "2     45.0\n",
      "3     70.0\n",
      "4    100.0\n",
      "Name: value, dtype: float64\n"
     ]
    }
   ],
   "source": [
    "# Calculate the expanding sum\n",
    "expanding_sum = df['value'].expanding().sum()\n",
    "print(expanding_sum)"
   ]
  },
  {
   "cell_type": "markdown",
   "id": "214301c6-e9e6-44de-9ca4-fe4b46e07e15",
   "metadata": {},
   "source": [
    "Q7."
   ]
  },
  {
   "cell_type": "code",
   "execution_count": 7,
   "id": "51daeeb2-ca48-43e0-aeb4-192d17b857f2",
   "metadata": {},
   "outputs": [],
   "source": [
    "import datetime"
   ]
  },
  {
   "cell_type": "code",
   "execution_count": 8,
   "id": "cca9b9b9-7b93-4503-bdbf-e5f81c43e5a0",
   "metadata": {},
   "outputs": [],
   "source": [
    "# Get the current date\n",
    "current_date = datetime.datetime.now()\n"
   ]
  },
  {
   "cell_type": "code",
   "execution_count": 10,
   "id": "a50cf540-6a18-4582-907c-98f02cd93616",
   "metadata": {},
   "outputs": [],
   "source": [
    "# Extract the current month and year\n",
    "current_month = current_date.month\n",
    "current_year = current_date.year"
   ]
  },
  {
   "cell_type": "code",
   "execution_count": 11,
   "id": "d86331c0-7434-4c8f-9bd3-ca11153a6d5c",
   "metadata": {},
   "outputs": [
    {
     "name": "stdout",
     "output_type": "stream",
     "text": [
      "Current month: 8\n",
      "Current year: 2023\n"
     ]
    }
   ],
   "source": [
    "print(f\"Current month: {current_month}\")\n",
    "print(f\"Current year: {current_year}\")"
   ]
  },
  {
   "cell_type": "code",
   "execution_count": null,
   "id": "de754514-98da-458d-871e-fa03592f6173",
   "metadata": {},
   "outputs": [],
   "source": []
  }
 ],
 "metadata": {
  "kernelspec": {
   "display_name": "Python 3 (ipykernel)",
   "language": "python",
   "name": "python3"
  },
  "language_info": {
   "codemirror_mode": {
    "name": "ipython",
    "version": 3
   },
   "file_extension": ".py",
   "mimetype": "text/x-python",
   "name": "python",
   "nbconvert_exporter": "python",
   "pygments_lexer": "ipython3",
   "version": "3.10.8"
  }
 },
 "nbformat": 4,
 "nbformat_minor": 5
}
